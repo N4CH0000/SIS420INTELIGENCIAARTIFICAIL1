{
 "cells": [
  {
   "cell_type": "markdown",
   "id": "cf6c9627",
   "metadata": {},
   "source": [
    "#Ejecutar Jupyter y crear un cuadernillo con código ejemplo de conjuntos, \n",
    "#listas o diccionarios del how-to-code-in-python, que se adjunta.\n",
    "##LISTAS"
   ]
  },
  {
   "cell_type": "code",
   "execution_count": 7,
   "id": "95863116",
   "metadata": {},
   "outputs": [
    {
     "name": "stdout",
     "output_type": "stream",
     "text": [
      "Ingrese la cantidad de nombres a ingresar: 5\n",
      "Ingrese el nombre: Carlos\n",
      "Ingrese el nombre: Kevin\n",
      "Ingrese el nombre: Katerine\n",
      "Ingrese el nombre: Brayan\n",
      "Ingrese el nombre: Aracely\n",
      "Carlos Kevin Katerine Brayan Aracely \n",
      " Fin del ciclo for\n"
     ]
    }
   ],
   "source": [
    "nombres=[]\n",
    "n=0\n",
    "while n<=0:\n",
    "    n=int(input(\"Ingrese la cantidad de nombres a ingresar: \"))\n",
    "else:\n",
    "    for i in range(n):\n",
    "        nombres.append(input(\"Ingrese el nombre: \"))\n",
    "    for nombre in nombres:\n",
    "        print(nombre, end=' ')\n",
    "    print('\\n',\"Fin del ciclo for\")"
   ]
  },
  {
   "cell_type": "markdown",
   "id": "af56705e",
   "metadata": {},
   "source": [
    "##DICCIONARIOS\n",
    "##CONCEPTOS DE DICCIONARIO"
   ]
  },
  {
   "cell_type": "code",
   "execution_count": 3,
   "id": "cf192c93",
   "metadata": {},
   "outputs": [
    {
     "name": "stdout",
     "output_type": "stream",
     "text": [
      "{'IDE': 'Integrated Development Environment', 'OOP': 'Object Oriented Programming', 'DBMS': 'Database Management System'}\n",
      "3\n",
      "Integrated Development Environment\n",
      "Object Oriented Programming\n",
      "{'IDE': 'integrated development environment', 'OOP': 'Object Oriented Programming', 'DBMS': 'Database Management System'}\n",
      "IDE integrated development environment\n",
      "OOP Object Oriented Programming\n",
      "DBMS Database Management System\n",
      "IDE\n",
      "OOP\n",
      "DBMS\n",
      "integrated development environment\n",
      "Object Oriented Programming\n",
      "Database Management System\n",
      "True\n",
      "{'IDE': 'integrated development environment', 'OOP': 'Object Oriented Programming', 'DBMS': 'Database Management System', 'PK': 'Primary Key'}\n",
      "{'IDE': 'integrated development environment', 'OOP': 'Object Oriented Programming', 'PK': 'Primary Key'}\n",
      "{}\n"
     ]
    }
   ],
   "source": [
    "# dict (key, value)\n",
    "diccionario = {\n",
    "    'IDE':'Integrated Development Environment',\n",
    "    'OOP':'Object Oriented Programming',\n",
    "    'DBMS':'Database Management System'\n",
    "}\n",
    "print(diccionario)\n",
    "#largo\n",
    "print(len(diccionario))\n",
    "# acceder a un elemento (key)\n",
    "print( diccionario['IDE'])\n",
    "# otra forma de recuperar un elemento\n",
    "print(diccionario.get('OOP'))\n",
    "# modificando elementos\n",
    "diccionario['IDE'] = 'integrated development environment'\n",
    "print(diccionario)\n",
    "# recorrer los elementos\n",
    "for termino, valor in diccionario.items():\n",
    "    print(termino, valor)\n",
    "\n",
    "for termino in diccionario.keys():\n",
    "    print(termino)\n",
    "\n",
    "for valor in diccionario.values():\n",
    "    print(valor)\n",
    "\n",
    "# comprobar existencia de algún elemento\n",
    "print('IDE' in diccionario)\n",
    "\n",
    "# agregar un elemento\n",
    "diccionario['PK'] = 'Primary Key'\n",
    "print(diccionario)\n",
    "\n",
    "# remover un elemento\n",
    "diccionario.pop('DBMS')\n",
    "print(diccionario)\n",
    "\n",
    "# limpiar\n",
    "diccionario.clear()\n",
    "print(diccionario)\n",
    "\n",
    "# eliminar el diccionario\n",
    "#del diccionario\n",
    "#print(diccionario)"
   ]
  },
  {
   "cell_type": "code",
   "execution_count": null,
   "id": "e84d673d",
   "metadata": {},
   "outputs": [],
   "source": []
  }
 ],
 "metadata": {
  "kernelspec": {
   "display_name": "Python 3 (ipykernel)",
   "language": "python",
   "name": "python3"
  },
  "language_info": {
   "codemirror_mode": {
    "name": "ipython",
    "version": 3
   },
   "file_extension": ".py",
   "mimetype": "text/x-python",
   "name": "python",
   "nbconvert_exporter": "python",
   "pygments_lexer": "ipython3",
   "version": "3.9.12"
  }
 },
 "nbformat": 4,
 "nbformat_minor": 5
}
