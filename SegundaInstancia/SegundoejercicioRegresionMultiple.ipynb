{
  "cells": [
    {
      "cell_type": "markdown",
      "metadata": {
        "id": "yZ3h6_xVwl4q"
      },
      "source": [
        "# Ejercicio de programación Regresión Lineal Multiple"
      ]
    },
    {
      "cell_type": "code",
      "execution_count": 99,
      "metadata": {
        "id": "bdrmMocPwl5D"
      },
      "outputs": [],
      "source": [
        "##JOSE IGANCIO DURAN DAZA\n",
        "#https://github.com/N4CH0000/SIS420INTELIGENCIAARTIFICAIL1\n",
        "# utilizado para manejos de directorios y rutas\n",
        "import os\n",
        "\n",
        "# Computacion vectorial y cientifica para python\n",
        "import numpy as np\n",
        "import pandas as pd \n",
        "\n",
        "# Librerias para graficación (trazado de gráficos)\n",
        "from matplotlib import pyplot\n",
        "from mpl_toolkits.mplot3d import Axes3D  # Necesario para graficar superficies 3D\n",
        "\n",
        "# llama a matplotlib a embeber graficas dentro de los cuadernillos\n",
        "%matplotlib inline"
      ]
    },
    {
      "cell_type": "code",
      "execution_count": 100,
      "metadata": {
        "colab": {
          "base_uri": "https://localhost:8080/",
          "height": 270
        },
        "id": "CyeQcSi2wl5L",
        "outputId": "520ccd38-11d2-4dd3-c7ff-44ed95686475"
      },
      "outputs": [
        {
          "output_type": "execute_result",
          "data": {
            "text/plain": [
              "   squareMeters  numberOfRooms  hasYard  hasPool  floors  cityCode  \\\n",
              "0         75523              3        0        1      63      9373   \n",
              "1         80771             39        1        1      98     39381   \n",
              "2         55712             58        0        1      19     34457   \n",
              "3         32316             47        0        0       6     27939   \n",
              "4         70429             19        1        1      90     38045   \n",
              "\n",
              "   cityPartRange  numPrevOwners  made  isNewBuilt  hasStormProtector  \\\n",
              "0              3              8  2005           0                  1   \n",
              "1              8              6  2015           1                  0   \n",
              "2              6              8  2021           0                  0   \n",
              "3             10              4  2012           0                  1   \n",
              "4              3              7  1990           1                  0   \n",
              "\n",
              "   basement  attic  garage  hasStorageRoom  hasGuestRoom      price  category  \n",
              "0      4313   9005     956               0             7  7559081.5         1  \n",
              "1      3653   2436     128               1             2  8085989.5         2  \n",
              "2      2937   8852     135               1             9  5574642.1         1  \n",
              "3       659   7141     359               0             3  3232561.2         1  \n",
              "4      8435   2429     292               1             4  7055052.0         2  "
            ],
            "text/html": [
              "\n",
              "  <div id=\"df-4a6747b7-6d33-4cc8-bcaf-eb64537de58b\">\n",
              "    <div class=\"colab-df-container\">\n",
              "      <div>\n",
              "<style scoped>\n",
              "    .dataframe tbody tr th:only-of-type {\n",
              "        vertical-align: middle;\n",
              "    }\n",
              "\n",
              "    .dataframe tbody tr th {\n",
              "        vertical-align: top;\n",
              "    }\n",
              "\n",
              "    .dataframe thead th {\n",
              "        text-align: right;\n",
              "    }\n",
              "</style>\n",
              "<table border=\"1\" class=\"dataframe\">\n",
              "  <thead>\n",
              "    <tr style=\"text-align: right;\">\n",
              "      <th></th>\n",
              "      <th>squareMeters</th>\n",
              "      <th>numberOfRooms</th>\n",
              "      <th>hasYard</th>\n",
              "      <th>hasPool</th>\n",
              "      <th>floors</th>\n",
              "      <th>cityCode</th>\n",
              "      <th>cityPartRange</th>\n",
              "      <th>numPrevOwners</th>\n",
              "      <th>made</th>\n",
              "      <th>isNewBuilt</th>\n",
              "      <th>hasStormProtector</th>\n",
              "      <th>basement</th>\n",
              "      <th>attic</th>\n",
              "      <th>garage</th>\n",
              "      <th>hasStorageRoom</th>\n",
              "      <th>hasGuestRoom</th>\n",
              "      <th>price</th>\n",
              "      <th>category</th>\n",
              "    </tr>\n",
              "  </thead>\n",
              "  <tbody>\n",
              "    <tr>\n",
              "      <th>0</th>\n",
              "      <td>75523</td>\n",
              "      <td>3</td>\n",
              "      <td>0</td>\n",
              "      <td>1</td>\n",
              "      <td>63</td>\n",
              "      <td>9373</td>\n",
              "      <td>3</td>\n",
              "      <td>8</td>\n",
              "      <td>2005</td>\n",
              "      <td>0</td>\n",
              "      <td>1</td>\n",
              "      <td>4313</td>\n",
              "      <td>9005</td>\n",
              "      <td>956</td>\n",
              "      <td>0</td>\n",
              "      <td>7</td>\n",
              "      <td>7559081.5</td>\n",
              "      <td>1</td>\n",
              "    </tr>\n",
              "    <tr>\n",
              "      <th>1</th>\n",
              "      <td>80771</td>\n",
              "      <td>39</td>\n",
              "      <td>1</td>\n",
              "      <td>1</td>\n",
              "      <td>98</td>\n",
              "      <td>39381</td>\n",
              "      <td>8</td>\n",
              "      <td>6</td>\n",
              "      <td>2015</td>\n",
              "      <td>1</td>\n",
              "      <td>0</td>\n",
              "      <td>3653</td>\n",
              "      <td>2436</td>\n",
              "      <td>128</td>\n",
              "      <td>1</td>\n",
              "      <td>2</td>\n",
              "      <td>8085989.5</td>\n",
              "      <td>2</td>\n",
              "    </tr>\n",
              "    <tr>\n",
              "      <th>2</th>\n",
              "      <td>55712</td>\n",
              "      <td>58</td>\n",
              "      <td>0</td>\n",
              "      <td>1</td>\n",
              "      <td>19</td>\n",
              "      <td>34457</td>\n",
              "      <td>6</td>\n",
              "      <td>8</td>\n",
              "      <td>2021</td>\n",
              "      <td>0</td>\n",
              "      <td>0</td>\n",
              "      <td>2937</td>\n",
              "      <td>8852</td>\n",
              "      <td>135</td>\n",
              "      <td>1</td>\n",
              "      <td>9</td>\n",
              "      <td>5574642.1</td>\n",
              "      <td>1</td>\n",
              "    </tr>\n",
              "    <tr>\n",
              "      <th>3</th>\n",
              "      <td>32316</td>\n",
              "      <td>47</td>\n",
              "      <td>0</td>\n",
              "      <td>0</td>\n",
              "      <td>6</td>\n",
              "      <td>27939</td>\n",
              "      <td>10</td>\n",
              "      <td>4</td>\n",
              "      <td>2012</td>\n",
              "      <td>0</td>\n",
              "      <td>1</td>\n",
              "      <td>659</td>\n",
              "      <td>7141</td>\n",
              "      <td>359</td>\n",
              "      <td>0</td>\n",
              "      <td>3</td>\n",
              "      <td>3232561.2</td>\n",
              "      <td>1</td>\n",
              "    </tr>\n",
              "    <tr>\n",
              "      <th>4</th>\n",
              "      <td>70429</td>\n",
              "      <td>19</td>\n",
              "      <td>1</td>\n",
              "      <td>1</td>\n",
              "      <td>90</td>\n",
              "      <td>38045</td>\n",
              "      <td>3</td>\n",
              "      <td>7</td>\n",
              "      <td>1990</td>\n",
              "      <td>1</td>\n",
              "      <td>0</td>\n",
              "      <td>8435</td>\n",
              "      <td>2429</td>\n",
              "      <td>292</td>\n",
              "      <td>1</td>\n",
              "      <td>4</td>\n",
              "      <td>7055052.0</td>\n",
              "      <td>2</td>\n",
              "    </tr>\n",
              "  </tbody>\n",
              "</table>\n",
              "</div>\n",
              "      <button class=\"colab-df-convert\" onclick=\"convertToInteractive('df-4a6747b7-6d33-4cc8-bcaf-eb64537de58b')\"\n",
              "              title=\"Convert this dataframe to an interactive table.\"\n",
              "              style=\"display:none;\">\n",
              "        \n",
              "  <svg xmlns=\"http://www.w3.org/2000/svg\" height=\"24px\"viewBox=\"0 0 24 24\"\n",
              "       width=\"24px\">\n",
              "    <path d=\"M0 0h24v24H0V0z\" fill=\"none\"/>\n",
              "    <path d=\"M18.56 5.44l.94 2.06.94-2.06 2.06-.94-2.06-.94-.94-2.06-.94 2.06-2.06.94zm-11 1L8.5 8.5l.94-2.06 2.06-.94-2.06-.94L8.5 2.5l-.94 2.06-2.06.94zm10 10l.94 2.06.94-2.06 2.06-.94-2.06-.94-.94-2.06-.94 2.06-2.06.94z\"/><path d=\"M17.41 7.96l-1.37-1.37c-.4-.4-.92-.59-1.43-.59-.52 0-1.04.2-1.43.59L10.3 9.45l-7.72 7.72c-.78.78-.78 2.05 0 2.83L4 21.41c.39.39.9.59 1.41.59.51 0 1.02-.2 1.41-.59l7.78-7.78 2.81-2.81c.8-.78.8-2.07 0-2.86zM5.41 20L4 18.59l7.72-7.72 1.47 1.35L5.41 20z\"/>\n",
              "  </svg>\n",
              "      </button>\n",
              "      \n",
              "  <style>\n",
              "    .colab-df-container {\n",
              "      display:flex;\n",
              "      flex-wrap:wrap;\n",
              "      gap: 12px;\n",
              "    }\n",
              "\n",
              "    .colab-df-convert {\n",
              "      background-color: #E8F0FE;\n",
              "      border: none;\n",
              "      border-radius: 50%;\n",
              "      cursor: pointer;\n",
              "      display: none;\n",
              "      fill: #1967D2;\n",
              "      height: 32px;\n",
              "      padding: 0 0 0 0;\n",
              "      width: 32px;\n",
              "    }\n",
              "\n",
              "    .colab-df-convert:hover {\n",
              "      background-color: #E2EBFA;\n",
              "      box-shadow: 0px 1px 2px rgba(60, 64, 67, 0.3), 0px 1px 3px 1px rgba(60, 64, 67, 0.15);\n",
              "      fill: #174EA6;\n",
              "    }\n",
              "\n",
              "    [theme=dark] .colab-df-convert {\n",
              "      background-color: #3B4455;\n",
              "      fill: #D2E3FC;\n",
              "    }\n",
              "\n",
              "    [theme=dark] .colab-df-convert:hover {\n",
              "      background-color: #434B5C;\n",
              "      box-shadow: 0px 1px 3px 1px rgba(0, 0, 0, 0.15);\n",
              "      filter: drop-shadow(0px 1px 2px rgba(0, 0, 0, 0.3));\n",
              "      fill: #FFFFFF;\n",
              "    }\n",
              "  </style>\n",
              "\n",
              "      <script>\n",
              "        const buttonEl =\n",
              "          document.querySelector('#df-4a6747b7-6d33-4cc8-bcaf-eb64537de58b button.colab-df-convert');\n",
              "        buttonEl.style.display =\n",
              "          google.colab.kernel.accessAllowed ? 'block' : 'none';\n",
              "\n",
              "        async function convertToInteractive(key) {\n",
              "          const element = document.querySelector('#df-4a6747b7-6d33-4cc8-bcaf-eb64537de58b');\n",
              "          const dataTable =\n",
              "            await google.colab.kernel.invokeFunction('convertToInteractive',\n",
              "                                                     [key], {});\n",
              "          if (!dataTable) return;\n",
              "\n",
              "          const docLinkHtml = 'Like what you see? Visit the ' +\n",
              "            '<a target=\"_blank\" href=https://colab.research.google.com/notebooks/data_table.ipynb>data table notebook</a>'\n",
              "            + ' to learn more about interactive tables.';\n",
              "          element.innerHTML = '';\n",
              "          dataTable['output_type'] = 'display_data';\n",
              "          await google.colab.output.renderOutput(dataTable, element);\n",
              "          const docLink = document.createElement('div');\n",
              "          docLink.innerHTML = docLinkHtml;\n",
              "          element.appendChild(docLink);\n",
              "        }\n",
              "      </script>\n",
              "    </div>\n",
              "  </div>\n",
              "  "
            ]
          },
          "metadata": {},
          "execution_count": 100
        }
      ],
      "source": [
        "#Abrir el dataset \n",
        "data = pd.read_csv('ParisHousingClass.csv', delimiter=',')\n",
        "data.head()"
      ]
    },
    {
      "cell_type": "code",
      "execution_count": 101,
      "metadata": {
        "id": "K66jTjI_wl5P"
      },
      "outputs": [],
      "source": [
        "# Cargar datos\n",
        "data = pd.read_csv(os.path.join('ParisHousingClass.csv'),delimiter=',')\n",
        "X, y = data.iloc[:, :17], data.iloc[:, 1]\n",
        "m = y.size  # m = numero de ejemplos de entrenamiento\n"
      ]
    },
    {
      "cell_type": "code",
      "source": [
        "data.corr()[\"squareMeters\"]"
      ],
      "metadata": {
        "colab": {
          "base_uri": "https://localhost:8080/"
        },
        "id": "0D8MUnY3vVMQ",
        "outputId": "092b1f43-5797-4549-ec31-97d825c0715a"
      },
      "execution_count": 102,
      "outputs": [
        {
          "output_type": "execute_result",
          "data": {
            "text/plain": [
              "squareMeters         1.000000\n",
              "numberOfRooms        0.009573\n",
              "hasYard             -0.006650\n",
              "hasPool             -0.005594\n",
              "floors               0.001109\n",
              "cityCode            -0.001541\n",
              "cityPartRange        0.008758\n",
              "numPrevOwners        0.016619\n",
              "made                -0.007207\n",
              "isNewBuilt          -0.010667\n",
              "hasStormProtector    0.007480\n",
              "basement            -0.003960\n",
              "attic               -0.000588\n",
              "garage              -0.017246\n",
              "hasStorageRoom      -0.003486\n",
              "hasGuestRoom        -0.000623\n",
              "price                0.999999\n",
              "category            -0.011800\n",
              "Name: squareMeters, dtype: float64"
            ]
          },
          "metadata": {},
          "execution_count": 102
        }
      ]
    },
    {
      "cell_type": "code",
      "source": [],
      "metadata": {
        "id": "Qcx69DumyO2q"
      },
      "execution_count": 75,
      "outputs": []
    },
    {
      "cell_type": "code",
      "execution_count": 103,
      "metadata": {
        "id": "LDfghlR4wl5T"
      },
      "outputs": [],
      "source": [
        "#Normalizacion \n",
        "def  featureNormalize(X):\n",
        "    X_norm = X.copy()\n",
        "    mu = np.zeros(X.shape[1])\n",
        "    sigma = np.zeros(X.shape[1])\n",
        "\n",
        "    mu = np.mean(X, axis = 0)\n",
        "    sigma = np.std(X, axis = 0)\n",
        "    X_norm = (X - mu) / sigma\n",
        "    \n",
        "    return X_norm, mu, sigma"
      ]
    },
    {
      "cell_type": "code",
      "execution_count": 104,
      "metadata": {
        "colab": {
          "base_uri": "https://localhost:8080/"
        },
        "id": "7SHuE7bjwl5U",
        "outputId": "1b69ddf9-39f7-487d-9217-ed076fafe3a2"
      },
      "outputs": [
        {
          "output_type": "stream",
          "name": "stdout",
          "text": [
            "      squareMeters  numberOfRooms  hasYard  hasPool  floors  cityCode  \\\n",
            "0            75523              3        0        1      63      9373   \n",
            "1            80771             39        1        1      98     39381   \n",
            "2            55712             58        0        1      19     34457   \n",
            "3            32316             47        0        0       6     27939   \n",
            "4            70429             19        1        1      90     38045   \n",
            "...            ...            ...      ...      ...     ...       ...   \n",
            "9995          1726             89        0        1       5     73133   \n",
            "9996         44403             29        1        1      12     34606   \n",
            "9997         83841              3        0        0      69     80933   \n",
            "9998         59036             70        0        0      96     55856   \n",
            "9999          1440             84        0        0      49     18412   \n",
            "\n",
            "      cityPartRange  numPrevOwners  made  isNewBuilt  hasStormProtector  \\\n",
            "0                 3              8  2005           0                  1   \n",
            "1                 8              6  2015           1                  0   \n",
            "2                 6              8  2021           0                  0   \n",
            "3                10              4  2012           0                  1   \n",
            "4                 3              7  1990           1                  0   \n",
            "...             ...            ...   ...         ...                ...   \n",
            "9995              7              6  2009           0                  1   \n",
            "9996              9              4  1990           0                  1   \n",
            "9997             10             10  2005           1                  1   \n",
            "9998              1              3  2010           0                  1   \n",
            "9999              6             10  1994           1                  0   \n",
            "\n",
            "      basement  attic  garage  hasStorageRoom  hasGuestRoom      price  \n",
            "0         4313   9005     956               0             7  7559081.5  \n",
            "1         3653   2436     128               1             2  8085989.5  \n",
            "2         2937   8852     135               1             9  5574642.1  \n",
            "3          659   7141     359               0             3  3232561.2  \n",
            "4         8435   2429     292               1             4  7055052.0  \n",
            "...        ...    ...     ...             ...           ...        ...  \n",
            "9995      9311   1698     218               0             4   176425.9  \n",
            "9996      9061   1742     230               0             0  4448474.0  \n",
            "9997      8304   7730     345               1             9  8390030.5  \n",
            "9998      2590   6174     339               1             4  5905107.0  \n",
            "9999      8485   2024     278               1             6   146708.4  \n",
            "\n",
            "[10000 rows x 17 columns]\n",
            "Media calculada: squareMeters         4.987013e+04\n",
            "numberOfRooms        5.035840e+01\n",
            "hasYard              5.087000e-01\n",
            "hasPool              4.968000e-01\n",
            "floors               5.027630e+01\n",
            "cityCode             5.022549e+04\n",
            "cityPartRange        5.510100e+00\n",
            "numPrevOwners        5.521700e+00\n",
            "made                 2.005488e+03\n",
            "isNewBuilt           4.991000e-01\n",
            "hasStormProtector    4.999000e-01\n",
            "basement             5.033104e+03\n",
            "attic                5.028011e+03\n",
            "garage               5.531212e+02\n",
            "hasStorageRoom       5.030000e-01\n",
            "hasGuestRoom         4.994600e+00\n",
            "price                4.993448e+06\n",
            "dtype: float64\n",
            "Desviación estandar calculada: squareMeters         2.877294e+04\n",
            "numberOfRooms        2.881526e+01\n",
            "hasYard              4.999243e-01\n",
            "hasPool              4.999898e-01\n",
            "floors               2.888773e+01\n",
            "cityCode             2.900523e+04\n",
            "cityPartRange        2.871881e+00\n",
            "numPrevOwners        2.856524e+00\n",
            "made                 9.307624e+00\n",
            "isNewBuilt           4.999992e-01\n",
            "hasStormProtector    5.000000e-01\n",
            "basement             2.876586e+03\n",
            "attic                2.894187e+03\n",
            "garage               2.620371e+02\n",
            "hasStorageRoom       4.999910e-01\n",
            "hasGuestRoom         3.176251e+00\n",
            "price                2.877280e+06\n",
            "dtype: float64\n",
            "      squareMeters  numberOfRooms   hasYard   hasPool    floors  cityCode  \\\n",
            "0         0.891562      -1.643518 -1.017554  1.006421  0.440453 -1.408453   \n",
            "1         1.073956      -0.394180  0.982749  1.006421  1.652041 -0.373880   \n",
            "2         0.203033       0.265193 -1.017554  1.006421 -1.082685 -0.543643   \n",
            "3        -0.610092      -0.116549 -1.017554 -0.993620 -1.532703 -0.768361   \n",
            "4         0.714521      -1.088257  0.982749  1.006421  1.375106 -0.419941   \n",
            "...            ...            ...       ...       ...       ...       ...   \n",
            "9995     -1.673244       1.341012 -1.017554  1.006421 -1.567320  0.789772   \n",
            "9996     -0.190009      -0.741218  0.982749  1.006421 -1.325002 -0.538506   \n",
            "9997      1.180654      -1.643518 -1.017554 -0.993620  0.648154  1.058689   \n",
            "9998      0.318559       0.681639 -1.017554 -0.993620  1.582807  0.194121   \n",
            "9999     -1.683183       1.167493 -1.017554 -0.993620 -0.044181 -1.096819   \n",
            "\n",
            "      cityPartRange  numPrevOwners      made  isNewBuilt  hasStormProtector  \\\n",
            "0         -0.874027       0.867593 -0.052484   -0.998202             1.0002   \n",
            "1          0.866993       0.167441  1.021904    1.001802            -0.9998   \n",
            "2          0.170585       0.867593  1.666537   -0.998202            -0.9998   \n",
            "3          1.563401      -0.532710  0.699588   -0.998202             1.0002   \n",
            "4         -0.874027       0.517517 -1.664066    1.001802            -0.9998   \n",
            "...             ...            ...       ...         ...                ...   \n",
            "9995       0.518789       0.167441  0.377271   -0.998202             1.0002   \n",
            "9996       1.215197      -0.532710 -1.664066   -0.998202             1.0002   \n",
            "9997       1.563401       1.567745 -0.052484    1.001802             1.0002   \n",
            "9998      -1.570434      -0.882786  0.484710   -0.998202             1.0002   \n",
            "9999       0.170585       1.567745 -1.234311    1.001802            -0.9998   \n",
            "\n",
            "      basement     attic    garage  hasStorageRoom  hasGuestRoom     price  \n",
            "0    -0.250333  1.374130  1.537488       -1.006018      0.631373  0.891687  \n",
            "1    -0.479772 -0.895592 -1.622370        0.994018     -0.942810  1.074814  \n",
            "2    -0.728678  1.321265 -1.595657        0.994018      1.261046  0.201994  \n",
            "3    -1.520589  0.730080 -0.740816       -1.006018     -0.627973 -0.611997  \n",
            "4     1.182616 -0.898010 -0.996505        0.994018     -0.313136  0.716512  \n",
            "...        ...       ...       ...             ...           ...       ...  \n",
            "9995  1.487144 -1.150586 -1.278908       -1.006018     -0.313136 -1.674158  \n",
            "9996  1.400235 -1.135383 -1.233113       -1.006018     -1.572483 -0.189406  \n",
            "9997  1.137076  0.933592 -0.794243        0.994018      1.261046  1.180484  \n",
            "9998 -0.849307  0.395962 -0.817141        0.994018     -0.313136  0.316848  \n",
            "9999  1.199998 -1.037946 -1.049932        0.994018      0.316537 -1.684486  \n",
            "\n",
            "[10000 rows x 17 columns]\n"
          ]
        }
      ],
      "source": [
        "# llama featureNormalize con los datos cargados\n",
        "X_norm, mu, sigma = featureNormalize(X)\n",
        "\n",
        "print(X)\n",
        "print('Media calculada:', mu)\n",
        "print('Desviación estandar calculada:', sigma)\n",
        "print(X_norm)"
      ]
    },
    {
      "cell_type": "markdown",
      "metadata": {
        "id": "Yl-5qa3Nwl5V"
      },
      "source": [
        "Despues de `featureNormalize` la funcion es provada, se añade el temino de interseccion a `X_norm`:"
      ]
    },
    {
      "cell_type": "code",
      "execution_count": 105,
      "metadata": {
        "id": "9GMt68E8wl5W"
      },
      "outputs": [],
      "source": [
        "# Añade el termino de interseccion a X\n",
        "# (Columna de unos para X0)\n",
        "X = np.concatenate([np.ones((m, 1)), X_norm], axis=1)"
      ]
    },
    {
      "cell_type": "code",
      "execution_count": 106,
      "metadata": {
        "colab": {
          "base_uri": "https://localhost:8080/"
        },
        "id": "S0H5Sy_0wl5X",
        "outputId": "515db3a2-5262-440d-d3dd-bcdcc65b3c1a"
      },
      "outputs": [
        {
          "output_type": "stream",
          "name": "stdout",
          "text": [
            "[[ 1.          0.89156241 -1.64351831 ... -1.00601811  0.63137326\n",
            "   0.89168721]\n",
            " [ 1.          1.07395603 -0.39418009 ...  0.99401789 -0.9428096\n",
            "   1.07481431]\n",
            " [ 1.          0.20303346  0.26519286 ...  0.99401789  1.26104641\n",
            "   0.20199443]\n",
            " ...\n",
            " [ 1.          1.18065352 -1.64351831 ...  0.99401789  1.26104641\n",
            "   1.18048389]\n",
            " [ 1.          0.31855868  0.68163893 ...  0.99401789 -0.31313646\n",
            "   0.31684765]\n",
            " [ 1.         -1.68318347  1.16749268 ...  0.99401789  0.31653669\n",
            "  -1.6844863 ]]\n",
            "[[ 1.          0.89156241 -1.64351831 ... -1.00601811  0.63137326\n",
            "   0.89168721]\n",
            " [ 1.          1.07395603 -0.39418009 ...  0.99401789 -0.9428096\n",
            "   1.07481431]\n",
            " [ 1.          0.20303346  0.26519286 ...  0.99401789  1.26104641\n",
            "   0.20199443]\n",
            " ...\n",
            " [ 1.          1.18065352 -1.64351831 ...  0.99401789  1.26104641\n",
            "   1.18048389]\n",
            " [ 1.          0.31855868  0.68163893 ...  0.99401789 -0.31313646\n",
            "   0.31684765]\n",
            " [ 1.         -1.68318347  1.16749268 ...  0.99401789  0.31653669\n",
            "  -1.6844863 ]]\n",
            "[[ 1.          0.89156241 -1.64351831 ... -1.00601811  0.63137326\n",
            "   0.89168721]\n",
            " [ 1.          1.07395603 -0.39418009 ...  0.99401789 -0.9428096\n",
            "   1.07481431]\n",
            " [ 1.          0.20303346  0.26519286 ...  0.99401789  1.26104641\n",
            "   0.20199443]\n",
            " ...\n",
            " [ 1.          1.18065352 -1.64351831 ...  0.99401789  1.26104641\n",
            "   1.18048389]\n",
            " [ 1.          0.31855868  0.68163893 ...  0.99401789 -0.31313646\n",
            "   0.31684765]\n",
            " [ 1.         -1.68318347  1.16749268 ...  0.99401789  0.31653669\n",
            "  -1.6844863 ]]\n",
            "[[ 1.          0.89156241 -1.64351831 ... -1.00601811  0.63137326\n",
            "   0.89168721]\n",
            " [ 1.          1.07395603 -0.39418009 ...  0.99401789 -0.9428096\n",
            "   1.07481431]\n",
            " [ 1.          0.20303346  0.26519286 ...  0.99401789  1.26104641\n",
            "   0.20199443]\n",
            " ...\n",
            " [ 1.          1.18065352 -1.64351831 ...  0.99401789  1.26104641\n",
            "   1.18048389]\n",
            " [ 1.          0.31855868  0.68163893 ...  0.99401789 -0.31313646\n",
            "   0.31684765]\n",
            " [ 1.         -1.68318347  1.16749268 ...  0.99401789  0.31653669\n",
            "  -1.6844863 ]]\n",
            "[[ 1.          0.89156241 -1.64351831 ... -1.00601811  0.63137326\n",
            "   0.89168721]\n",
            " [ 1.          1.07395603 -0.39418009 ...  0.99401789 -0.9428096\n",
            "   1.07481431]\n",
            " [ 1.          0.20303346  0.26519286 ...  0.99401789  1.26104641\n",
            "   0.20199443]\n",
            " ...\n",
            " [ 1.          1.18065352 -1.64351831 ...  0.99401789  1.26104641\n",
            "   1.18048389]\n",
            " [ 1.          0.31855868  0.68163893 ...  0.99401789 -0.31313646\n",
            "   0.31684765]\n",
            " [ 1.         -1.68318347  1.16749268 ...  0.99401789  0.31653669\n",
            "  -1.6844863 ]]\n",
            "[[ 1.          0.89156241 -1.64351831 ... -1.00601811  0.63137326\n",
            "   0.89168721]\n",
            " [ 1.          1.07395603 -0.39418009 ...  0.99401789 -0.9428096\n",
            "   1.07481431]\n",
            " [ 1.          0.20303346  0.26519286 ...  0.99401789  1.26104641\n",
            "   0.20199443]\n",
            " ...\n",
            " [ 1.          1.18065352 -1.64351831 ...  0.99401789  1.26104641\n",
            "   1.18048389]\n",
            " [ 1.          0.31855868  0.68163893 ...  0.99401789 -0.31313646\n",
            "   0.31684765]\n",
            " [ 1.         -1.68318347  1.16749268 ...  0.99401789  0.31653669\n",
            "  -1.6844863 ]]\n",
            "[[ 1.          0.89156241 -1.64351831 ... -1.00601811  0.63137326\n",
            "   0.89168721]\n",
            " [ 1.          1.07395603 -0.39418009 ...  0.99401789 -0.9428096\n",
            "   1.07481431]\n",
            " [ 1.          0.20303346  0.26519286 ...  0.99401789  1.26104641\n",
            "   0.20199443]\n",
            " ...\n",
            " [ 1.          1.18065352 -1.64351831 ...  0.99401789  1.26104641\n",
            "   1.18048389]\n",
            " [ 1.          0.31855868  0.68163893 ...  0.99401789 -0.31313646\n",
            "   0.31684765]\n",
            " [ 1.         -1.68318347  1.16749268 ...  0.99401789  0.31653669\n",
            "  -1.6844863 ]]\n"
          ]
        }
      ],
      "source": [
        "for i in range(7):\n",
        "    print(X)"
      ]
    },
    {
      "cell_type": "code",
      "execution_count": 107,
      "metadata": {
        "id": "LTl8QCE1wl5Z"
      },
      "outputs": [],
      "source": [
        "def computeCostMulti(X, y, theta):\n",
        "    # Inicializa algunos valores utiles\n",
        "    m = y.shape[0] # numero de ejemplos de entrenamiento\n",
        "    \n",
        "    J = 0\n",
        "    \n",
        "    h = np.dot(X, theta)\n",
        "    \n",
        "    J = (1/(2 * m)) * np.sum(np.square(np.dot(X, theta) - y))\n",
        "    \n",
        "    return J\n"
      ]
    },
    {
      "cell_type": "code",
      "execution_count": 108,
      "metadata": {
        "id": "mEgJBjkHwl5a"
      },
      "outputs": [],
      "source": [
        "def gradientDescentMulti(X, y, theta, alpha, num_iters):\n",
        "    \n",
        "    # Inicializa algunos valores \n",
        "    m = y.shape[0] # numero de ejemplos de entrenamiento\n",
        "    \n",
        "    # realiza una copia de theta, el cual será acutalizada por el descenso por el gradiente\n",
        "    theta = theta.copy()\n",
        "    \n",
        "    J_history = []\n",
        "    \n",
        "    for i in range(num_iters):\n",
        "        theta = theta - (alpha / m) * (np.dot(X, theta) - y).dot(X)\n",
        "        J_history.append(computeCostMulti(X, y, theta))\n",
        "    \n",
        "    return theta, J_history"
      ]
    },
    {
      "cell_type": "markdown",
      "metadata": {
        "id": "Yc4dl2gYwl5b"
      },
      "source": [
        "#### 3.2.1 Seleccionando coheficientes de aprendizaje\n"
      ]
    },
    {
      "cell_type": "code",
      "execution_count": 109,
      "metadata": {
        "colab": {
          "base_uri": "https://localhost:8080/",
          "height": 408
        },
        "id": "0z2hWWeywl5b",
        "outputId": "7e4223da-b6b4-45bd-bd59-a7e1f5d79f2c"
      },
      "outputs": [
        {
          "output_type": "stream",
          "name": "stdout",
          "text": [
            "theta calculado por el descenso por el gradiente: [ 5.03583999e+01 -3.63076807e-05  2.88152554e+01 -3.95512558e-08\n",
            "  3.75535941e-09  3.16967033e-09  1.19792931e-08  1.60082015e-09\n",
            "  1.99368593e-08 -4.64778890e-09 -6.02079960e-09 -4.03383493e-09\n",
            " -2.22188927e-08  1.47831167e-08  2.28744570e-08 -2.11058912e-08\n",
            " -8.58509944e-09  3.63085135e-05]\n",
            "El precio predecido para una casa de 75523 metros (metros cuadrados) con 3 habitaciones y con 63 plantas, un 3 rango de la ciudad, 8 propietarios anteriores tiene protectore de tormentas(usando el descenso por el gradiente): $3\n"
          ]
        },
        {
          "output_type": "display_data",
          "data": {
            "text/plain": [
              "<Figure size 432x288 with 1 Axes>"
            ],
            "image/png": "[encoded data removed]"
          },
          "metadata": {
            "needs_background": "light"
          }
        }
      ],
      "source": [
        "# Elegir algun valor para alpha (probar varias alternativas)\n",
        "alpha = 0.02\n",
        "num_iters = 1000\n",
        "\n",
        "# inicializa theta y ejecuta el descenso por el gradiente\n",
        "theta = np.zeros(18)\n",
        "theta, J_history = gradientDescentMulti(X, y, theta, alpha, num_iters)\n",
        "\n",
        "# Grafica la convergencia del costo\n",
        "pyplot.plot(np.arange(len(J_history)), J_history, lw=2)\n",
        "pyplot.xlabel('Numero de iteraciones')\n",
        "pyplot.ylabel('Costo J')\n",
        "\n",
        "# Muestra los resultados del descenso por el gradiente\n",
        "print('theta calculado por el descenso por el gradiente: {:s}'.format(str(theta)))\n",
        "\n",
        "# Estimar el precio para una casa de 75523 metros (metros cuadrados) con 3 habitaciones y con 63 plantas, un 3 rango de la ciudad, 8 propietarios anteriores\n",
        "# tiene protectore de tormentas\n",
        "X_array = [1,75523,3,0,1,63,9373,3,8,2005,0,1,4313,9005,956,0,7,7559081.5]\n",
        "X_array[1:18] = (X_array[1:18] - mu) / sigma\n",
        "price = np.dot(X_array, theta)   # Se debe cambiar esto\n",
        "\n",
        "print('El precio predecido para una casa de 75523 metros (metros cuadrados) con 3 habitaciones y con 63 plantas, un 3 rango de la ciudad, 8 propietarios anteriores tiene protectore de tormentas(usando el descenso por el gradiente): ${:.0f}'.format(price))"
      ]
    },
    {
      "cell_type": "code",
      "execution_count": 110,
      "metadata": {
        "id": "QiBw5BuHwl5d"
      },
      "outputs": [],
      "source": [
        "# Cargar datos\n",
        "data = pd.read_csv('ParisHousingClass.csv', delimiter=',')\n",
        "X = data.iloc[:, :17]\n",
        "y = data.iloc[:, 16]\n",
        "m = y.size\n",
        "X = np.concatenate([np.ones((m, 1)), X], axis=1)"
      ]
    },
    {
      "cell_type": "code",
      "execution_count": 111,
      "metadata": {
        "id": "phUB24-Mwl5e"
      },
      "outputs": [],
      "source": [
        "def normalEqn(X, y):\n",
        "  \n",
        "    theta = np.zeros(X.shape[1])\n",
        "    \n",
        "    theta = np.dot(np.dot(np.linalg.inv(np.dot(X.T,X)),X.T),y)\n",
        "    \n",
        "    return theta"
      ]
    },
    {
      "cell_type": "code",
      "execution_count": 98,
      "metadata": {
        "colab": {
          "base_uri": "https://localhost:8080/"
        },
        "id": "_JMuIunwwl5f",
        "outputId": "78a984f3-5ba8-4876-9611-7b5697b6b4ed"
      },
      "outputs": [
        {
          "output_type": "stream",
          "name": "stdout",
          "text": [
            "Theta calculado a partir de la ecuación de la normal: [ 3.91461216e-02 -1.36780272e-07  6.65615971e-08 -4.91194660e-05\n",
            " -1.56152382e-05 -2.75152729e-07  1.31556988e-11  1.29312821e-06\n",
            " -2.52526661e-07 -1.73685676e-05 -8.69164069e-06 -2.35918560e-06\n",
            " -8.47523829e-10  3.27602834e-10 -2.80631340e-09 -3.99035707e-06\n",
            " -6.59010766e-07  1.00000000e+00]\n",
            "El precio predecido para una casa de superficie 78823 metros (metros cuadrados) con 4 habitaciones y con 50 plantas, un 3 rango de la ciudad, 8 propietarios anteriores, tiene protectore de tormentas (usando la ecuación de la normal): $567465\n"
          ]
        }
      ],
      "source": [
        "# Calcula los parametros con la ecuación de la normal\n",
        "theta = normalEqn(X, y)\n",
        "\n",
        "# Muestra los resultados optenidos a partir de la aplicación de la ecuación de la normal\n",
        "print('Theta calculado a partir de la ecuación de la normal: {:s}'.format(str(theta)))\n",
        "\n",
        "# Estimar el precio para una casa de superficie 78823 metros (metros cuadrados) con 4 habitaciones y con 50 plantas, un 3 rango de la ciudad, 6 propietarios anteriores\n",
        "# tiene protectore de tormentas\n",
        "\n",
        "X_array = [1, 78823,4,0,1,50,9373,3,6,2005,0,1,4313,9005,956,0,7,567465]\n",
        "price = np.dot(X_array, theta) \n",
        "\n",
        "print('El precio predecido para una casa de superficie 78823 metros (metros cuadrados) con 4 habitaciones y con 50 plantas, un 3 rango de la ciudad, 8 propietarios anteriores, tiene protectore de tormentas (usando la ecuación de la normal): ${:.0f}'.format(price))"
      ]
    }
  ],
  "metadata": {
    "kernelspec": {
      "display_name": "Python 3",
      "language": "python",
      "name": "python3"
    },
    "language_info": {
      "codemirror_mode": {
        "name": "ipython",
        "version": 3
      },
      "file_extension": ".py",
      "mimetype": "text/x-python",
      "name": "python",
      "nbconvert_exporter": "python",
      "pygments_lexer": "ipython3",
      "version": "3.10.4 (tags/v3.10.4:9d38120, Mar 23 2022, 23:13:41) [MSC v.1929 64 bit (AMD64)]"
    },
    "vscode": {
      "interpreter": {
        "hash": "4fc575347efa219798fdc80e72f18537acafed02733d7815abe9dda575f05009"
      }
    },
    "colab": {
      "provenance": []
    }
  },
  "nbformat": 4,
  "nbformat_minor": 0
}