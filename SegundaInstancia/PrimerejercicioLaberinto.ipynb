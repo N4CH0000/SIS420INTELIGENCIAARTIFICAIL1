{
  "nbformat": 4,
  "nbformat_minor": 0,
  "metadata": {
    "colab": {
      "provenance": []
    },
    "kernelspec": {
      "name": "python3",
      "display_name": "Python 3"
    },
    "language_info": {
      "name": "python"
    }
  },
  "cells": [
    {
      "cell_type": "code",
      "source": [
        "#JOSE IGNACIO DURAN DAZA\n",
        "#https://github.com/N4CH0000/SIS420INTELIGENCIAARTIFICAIL1\n",
        "import math\n",
        "from busquedas_02 import ProblemaBusqueda, aestrella\n",
        "#insertamos el mapa\n",
        "MAPA = \"\"\"\n",
        "##############################\n",
        "#         #              #  x #\n",
        "# ####    ########       #   #\n",
        "#  o #    #              #   #\n",
        "#    ###     ####   ######   #\n",
        "#         ####      #        #\n",
        "#            #  #   #   #### #\n",
        "#     ######    #       # x  #\n",
        "#        #      #            #\n",
        "##############################\n",
        "\"\"\"\n",
        "MAPA = [list(x) for x in MAPA.split(\"\\n\") if x]\n",
        "\n",
        "COSTOS = {\n",
        "    \"arriba\": 1.0,\n",
        "    \"abajo\": 1.0,\n",
        "    \"izquierda\": 1.0,\n",
        "    \"derecha\": 1.0,\n",
        "    \"arriba izquierda\": 1.4,\n",
        "    \"arriba derecha\": 1.4,\n",
        "    \"abajo izquierda\": 1.4,\n",
        "    \"abajo derecha\": 1.4,\n",
        "}\n",
        "\n"
      ],
      "metadata": {
        "id": "tXSEUrfCLNQx"
      },
      "execution_count": 8,
      "outputs": []
    },
    {
      "cell_type": "code",
      "source": [
        "\n",
        "class JuegoLaberinto(ProblemaBusqueda):\n",
        "\n",
        "    def __init__(self, tablero):\n",
        "        self.tablero = tablero\n",
        "        self.estado_objetivo = (0, 0)\n",
        "        self.estados_explorados = set()\n",
        "        self.total_estados = 0\n",
        "        for y in range(len(self.tablero)):\n",
        "            for x in range(len(self.tablero[y])):\n",
        "                if self.tablero[y][x].lower() == \"o\":\n",
        "                    self.estado_inicial = (x, y)\n",
        "                elif self.tablero[y][x].lower() == \"x\":\n",
        "                    self.estado_objetivo = (x, y)\n",
        "                if self.tablero[y][x] != \"#\":\n",
        "                    self.total_estados += 1\n",
        "\n",
        "        super(JuegoLaberinto, self).__init__(estado_inicial=self.estado_inicial)\n",
        "\n",
        "    def acciones(self, estado):\n",
        "        acciones = []\n",
        "        for accion in list(COSTOS.keys()):\n",
        "            nuevox, nuevoy = self.resultado(estado, accion)\n",
        "            if self.tablero[nuevoy][nuevox] != \"#\":\n",
        "                acciones.append(accion)\n",
        "        return acciones\n",
        "\n",
        "    def resultado(self, estado, accion):\n",
        "        x, y = estado\n",
        "\n",
        "        if accion.count(\"arriba\"):\n",
        "            y -= 1\n",
        "        if accion.count(\"abajo\"):\n",
        "            y += 1\n",
        "        if accion.count(\"izquierda\"):\n",
        "            x -= 1\n",
        "        if accion.count(\"derecha\"):\n",
        "            x += 1\n",
        "\n",
        "        estado_nuevo = (x, y)\n",
        "        return estado_nuevo\n",
        "\n",
        "    def es_objetivo(self, estado):\n",
        "        self.estados_explorados.add(estado)\n",
        "        return len(self.estados_explorados) == self.total_estados\n",
        "\n",
        "    def costo(self, estado, accion, estado2):\n",
        "        return COSTOS[accion]\n",
        "\n",
        "    def heuristic(self, estado):\n",
        "        x, y = estado\n",
        "        gx, gy = self.estado_objetivo\n",
        "        return math.sqrt((x - gx) ** 2 + (y - gy) ** 2)\n",
        "    def main():\n",
        "        problema = JuegoLaberinto(MAPA)\n",
        "        caminos = []\n",
        "        for resultado in aestrella(problema, busqueda_en_grafo=True):\n",
        "            camino = [x[1] for x in resultado.camino()]\n",
        "            caminos.append(camino)\n",
        "            for camino in caminos:\n",
        "              for y in range(len(MAPA)):\n",
        "                for x in range(len(MAPA[y])):\n",
        "                    if (x, y) == problema.estado_inicial:\n",
        "                        print(\"o\", end='')\n",
        "                    elif (x, y) == problema.estado_objetivo:\n",
        "                        print(\"x\", end='')\n",
        "                    elif (x, y) in camino:\n",
        "                        print(\"·\", end='')\n",
        "                    else:\n",
        "                        print(MAPA[y][x], end='')\n",
        "                print()\n",
        "\n",
        "\n",
        "    if __name__ == \"__main__\":\n",
        "      main()"
      ],
      "metadata": {
        "colab": {
          "base_uri": "https://localhost:8080/",
          "height": 396
        },
        "id": "sAmb6vofLSq_",
        "outputId": "295e6a94-7808-4491-ee6a-fa542f2ca632"
      },
      "execution_count": 10,
      "outputs": [
        {
          "output_type": "error",
          "ename": "NameError",
          "evalue": "ignored",
          "traceback": [
            "\u001b[0;31m---------------------------------------------------------------------------\u001b[0m",
            "\u001b[0;31mNameError\u001b[0m                                 Traceback (most recent call last)",
            "\u001b[0;32m<ipython-input-10-33ec2e7042ea>\u001b[0m in \u001b[0;36m<module>\u001b[0;34m\u001b[0m\n\u001b[0;32m----> 1\u001b[0;31m \u001b[0;32mclass\u001b[0m \u001b[0mJuegoLaberinto\u001b[0m\u001b[0;34m(\u001b[0m\u001b[0mProblemaBusqueda\u001b[0m\u001b[0;34m)\u001b[0m\u001b[0;34m:\u001b[0m\u001b[0;34m\u001b[0m\u001b[0;34m\u001b[0m\u001b[0m\n\u001b[0m\u001b[1;32m      2\u001b[0m \u001b[0;34m\u001b[0m\u001b[0m\n\u001b[1;32m      3\u001b[0m     \u001b[0;32mdef\u001b[0m \u001b[0m__init__\u001b[0m\u001b[0;34m(\u001b[0m\u001b[0mself\u001b[0m\u001b[0;34m,\u001b[0m \u001b[0mtablero\u001b[0m\u001b[0;34m)\u001b[0m\u001b[0;34m:\u001b[0m\u001b[0;34m\u001b[0m\u001b[0;34m\u001b[0m\u001b[0m\n\u001b[1;32m      4\u001b[0m         \u001b[0mself\u001b[0m\u001b[0;34m.\u001b[0m\u001b[0mtablero\u001b[0m \u001b[0;34m=\u001b[0m \u001b[0mtablero\u001b[0m\u001b[0;34m\u001b[0m\u001b[0;34m\u001b[0m\u001b[0m\n\u001b[1;32m      5\u001b[0m         \u001b[0mself\u001b[0m\u001b[0;34m.\u001b[0m\u001b[0mestado_objetivo\u001b[0m \u001b[0;34m=\u001b[0m \u001b[0;34m(\u001b[0m\u001b[0;36m0\u001b[0m\u001b[0;34m,\u001b[0m \u001b[0;36m0\u001b[0m\u001b[0;34m)\u001b[0m\u001b[0;34m\u001b[0m\u001b[0;34m\u001b[0m\u001b[0m\n",
            "\u001b[0;32m<ipython-input-10-33ec2e7042ea>\u001b[0m in \u001b[0;36mJuegoLaberinto\u001b[0;34m()\u001b[0m\n\u001b[1;32m     72\u001b[0m \u001b[0;34m\u001b[0m\u001b[0m\n\u001b[1;32m     73\u001b[0m     \u001b[0;32mif\u001b[0m \u001b[0m__name__\u001b[0m \u001b[0;34m==\u001b[0m \u001b[0;34m\"__main__\"\u001b[0m\u001b[0;34m:\u001b[0m\u001b[0;34m\u001b[0m\u001b[0;34m\u001b[0m\u001b[0m\n\u001b[0;32m---> 74\u001b[0;31m       \u001b[0mmain\u001b[0m\u001b[0;34m(\u001b[0m\u001b[0;34m)\u001b[0m\u001b[0;34m\u001b[0m\u001b[0;34m\u001b[0m\u001b[0m\n\u001b[0m",
            "\u001b[0;32m<ipython-input-10-33ec2e7042ea>\u001b[0m in \u001b[0;36mmain\u001b[0;34m()\u001b[0m\n\u001b[1;32m     52\u001b[0m         \u001b[0;32mreturn\u001b[0m \u001b[0mmath\u001b[0m\u001b[0;34m.\u001b[0m\u001b[0msqrt\u001b[0m\u001b[0;34m(\u001b[0m\u001b[0;34m(\u001b[0m\u001b[0mx\u001b[0m \u001b[0;34m-\u001b[0m \u001b[0mgx\u001b[0m\u001b[0;34m)\u001b[0m \u001b[0;34m**\u001b[0m \u001b[0;36m2\u001b[0m \u001b[0;34m+\u001b[0m \u001b[0;34m(\u001b[0m\u001b[0my\u001b[0m \u001b[0;34m-\u001b[0m \u001b[0mgy\u001b[0m\u001b[0;34m)\u001b[0m \u001b[0;34m**\u001b[0m \u001b[0;36m2\u001b[0m\u001b[0;34m)\u001b[0m\u001b[0;34m\u001b[0m\u001b[0;34m\u001b[0m\u001b[0m\n\u001b[1;32m     53\u001b[0m     \u001b[0;32mdef\u001b[0m \u001b[0mmain\u001b[0m\u001b[0;34m(\u001b[0m\u001b[0;34m)\u001b[0m\u001b[0;34m:\u001b[0m\u001b[0;34m\u001b[0m\u001b[0;34m\u001b[0m\u001b[0m\n\u001b[0;32m---> 54\u001b[0;31m         \u001b[0mproblema\u001b[0m \u001b[0;34m=\u001b[0m \u001b[0mJuegoLaberinto\u001b[0m\u001b[0;34m(\u001b[0m\u001b[0mMAPA\u001b[0m\u001b[0;34m)\u001b[0m\u001b[0;34m\u001b[0m\u001b[0;34m\u001b[0m\u001b[0m\n\u001b[0m\u001b[1;32m     55\u001b[0m         \u001b[0mcaminos\u001b[0m \u001b[0;34m=\u001b[0m \u001b[0;34m[\u001b[0m\u001b[0;34m]\u001b[0m\u001b[0;34m\u001b[0m\u001b[0;34m\u001b[0m\u001b[0m\n\u001b[1;32m     56\u001b[0m         \u001b[0;32mfor\u001b[0m \u001b[0mresultado\u001b[0m \u001b[0;32min\u001b[0m \u001b[0maestrella\u001b[0m\u001b[0;34m(\u001b[0m\u001b[0mproblema\u001b[0m\u001b[0;34m,\u001b[0m \u001b[0mbusqueda_en_grafo\u001b[0m\u001b[0;34m=\u001b[0m\u001b[0;32mTrue\u001b[0m\u001b[0;34m)\u001b[0m\u001b[0;34m:\u001b[0m\u001b[0;34m\u001b[0m\u001b[0;34m\u001b[0m\u001b[0m\n",
            "\u001b[0;31mNameError\u001b[0m: name 'JuegoLaberinto' is not defined"
          ]
        }
      ]
    },
    {
      "cell_type": "code",
      "execution_count": 12,
      "metadata": {
        "id": "TZg2EDJRCLL9"
      },
      "outputs": [],
      "source": []
    },
    {
      "cell_type": "code",
      "source": [],
      "metadata": {
        "id": "0YcE849dMy2a"
      },
      "execution_count": null,
      "outputs": []
    }
  ]
}